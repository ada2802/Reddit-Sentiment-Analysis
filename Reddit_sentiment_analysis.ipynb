{
 "cells": [
  {
   "cell_type": "markdown",
   "id": "89feeaa0",
   "metadata": {},
   "source": [
    "# Reddit data sentiment analysis"
   ]
  },
  {
   "cell_type": "code",
   "execution_count": 1,
   "id": "53ea5618",
   "metadata": {},
   "outputs": [],
   "source": [
    "#!pip install praw\n",
    "#!pip install --upgrade pandas"
   ]
  },
  {
   "cell_type": "code",
   "execution_count": 2,
   "id": "7a405f2e",
   "metadata": {},
   "outputs": [],
   "source": [
    "from pprint import pprint\n",
    "import pandas as pd\n",
    "import numpy as np\n",
    "import matplotlib.pyplot as plt\n",
    "import seaborn as sns"
   ]
  },
  {
   "cell_type": "code",
   "execution_count": 3,
   "id": "06baa281",
   "metadata": {},
   "outputs": [],
   "source": [
    "#Reddit API Connection\n",
    "#store reddit accout info in JSON format in reddit_acct.txt\n",
    "with open('reddit_acct.txt','r') as f:\n",
    "    reddit_acct = f.read()\n",
    "\n",
    "#conver data in json\n",
    "import json\n",
    "acct_json = json.loads(reddit_acct)\n",
    "#print(acct_json)\n",
    "\n",
    "username = acct_json['username']\n",
    "client_id = acct_json['client_id'] \n",
    "client_secret = acct_json['client_secret']\n",
    "\n",
    "#connect Reddit used praw\n",
    "import praw\n",
    "user_agent = \"Scraper 1.0 by /u/media-data-projects\"\n",
    "reddit = praw.Reddit(\n",
    "    client_id=client_id,\n",
    "    client_secret=client_secret,\n",
    "    user_agent=user_agent\n",
    ")"
   ]
  },
  {
   "cell_type": "code",
   "execution_count": 4,
   "id": "b659c8b1",
   "metadata": {},
   "outputs": [
    {
     "name": "stdout",
     "output_type": "stream",
     "text": [
      "755\n"
     ]
    }
   ],
   "source": [
    "#hot new rising top in politics\n",
    "headlines = set()\n",
    "for submission in reddit.subreddit('politics').hot(limit=None):\n",
    "    #print(submission.title)\n",
    "    #print(submission.id)\n",
    "    #print(submission.author)\n",
    "    #print(submission.created_utc)\n",
    "    #print(submission.score)\n",
    "    #print(submission.upvote_ratio)\n",
    "    #print(submission.url)\n",
    "    #break\n",
    "    headlines.add(submission.title)\n",
    "print(len(headlines))  "
   ]
  },
  {
   "cell_type": "code",
   "execution_count": 5,
   "id": "0ca941b5",
   "metadata": {},
   "outputs": [
    {
     "data": {
      "text/html": [
       "<div>\n",
       "<style scoped>\n",
       "    .dataframe tbody tr th:only-of-type {\n",
       "        vertical-align: middle;\n",
       "    }\n",
       "\n",
       "    .dataframe tbody tr th {\n",
       "        vertical-align: top;\n",
       "    }\n",
       "\n",
       "    .dataframe thead th {\n",
       "        text-align: right;\n",
       "    }\n",
       "</style>\n",
       "<table border=\"1\" class=\"dataframe\">\n",
       "  <thead>\n",
       "    <tr style=\"text-align: right;\">\n",
       "      <th></th>\n",
       "      <th>0</th>\n",
       "    </tr>\n",
       "  </thead>\n",
       "  <tbody>\n",
       "    <tr>\n",
       "      <th>0</th>\n",
       "      <td>Republican Senate candidate Larry Hogan calls ...</td>\n",
       "    </tr>\n",
       "    <tr>\n",
       "      <th>1</th>\n",
       "      <td>Energy Department commits $360 million to powe...</td>\n",
       "    </tr>\n",
       "    <tr>\n",
       "      <th>2</th>\n",
       "      <td>Ex-NBA player running for US Senate comes unde...</td>\n",
       "    </tr>\n",
       "    <tr>\n",
       "      <th>3</th>\n",
       "      <td>Georgia judge dismisses voting machine securit...</td>\n",
       "    </tr>\n",
       "    <tr>\n",
       "      <th>4</th>\n",
       "      <td>Donald Trump's Call for 'Really Violent Day' C...</td>\n",
       "    </tr>\n",
       "  </tbody>\n",
       "</table>\n",
       "</div>"
      ],
      "text/plain": [
       "                                                   0\n",
       "0  Republican Senate candidate Larry Hogan calls ...\n",
       "1  Energy Department commits $360 million to powe...\n",
       "2  Ex-NBA player running for US Senate comes unde...\n",
       "3  Georgia judge dismisses voting machine securit...\n",
       "4  Donald Trump's Call for 'Really Violent Day' C..."
      ]
     },
     "execution_count": 5,
     "metadata": {},
     "output_type": "execute_result"
    }
   ],
   "source": [
    "df = pd.DataFrame(headlines)\n",
    "df.head()"
   ]
  },
  {
   "cell_type": "code",
   "execution_count": 6,
   "id": "dc56eaa8",
   "metadata": {},
   "outputs": [
    {
     "name": "stderr",
     "output_type": "stream",
     "text": [
      "[nltk_data] Downloading package vader_lexicon to\n",
      "[nltk_data]     C:\\Users\\Ada\\AppData\\Roaming\\nltk_data...\n",
      "[nltk_data]   Package vader_lexicon is already up-to-date!\n"
     ]
    },
    {
     "data": {
      "text/plain": [
       "True"
      ]
     },
     "execution_count": 6,
     "metadata": {},
     "output_type": "execute_result"
    }
   ],
   "source": [
    "import nltk\n",
    "nltk.download('vader_lexicon')"
   ]
  },
  {
   "cell_type": "code",
   "execution_count": 7,
   "id": "cf75a31d",
   "metadata": {},
   "outputs": [
    {
     "name": "stdout",
     "output_type": "stream",
     "text": [
      "[{'compound': -0.1027,\n",
      "  'headline': 'Republican Senate candidate Larry Hogan calls JD Vance ‘crazy’ for refusing to '\n",
      "              'endorse 2020 election result',\n",
      "  'neg': 0.142,\n",
      "  'neu': 0.737,\n",
      "  'pos': 0.121},\n",
      " {'compound': 0.296,\n",
      "  'headline': 'Energy Department commits $360 million to power line connecting Texas grid to '\n",
      "              'Mississippi',\n",
      "  'neg': 0.0,\n",
      "  'neu': 0.775,\n",
      "  'pos': 0.225},\n",
      " {'compound': -0.296,\n",
      "  'headline': 'Ex-NBA player running for US Senate comes under fire for resurfaced comment that '\n",
      "              \"'bad guys' won WWII\",\n",
      "  'neg': 0.25,\n",
      "  'neu': 0.593,\n",
      "  'pos': 0.157}]\n"
     ]
    }
   ],
   "source": [
    "from nltk.sentiment.vader import SentimentIntensityAnalyzer as SIA\n",
    "\n",
    "sia = SIA()\n",
    "result = []\n",
    "\n",
    "for line in headlines:\n",
    "    pol_score = sia.polarity_scores(line) # -> dict\n",
    "    pol_score['headline'] = line\n",
    "    result.append(pol_score)\n",
    "    \n",
    "pprint(result[:3], width=100)"
   ]
  },
  {
   "cell_type": "code",
   "execution_count": 8,
   "id": "5fe86042",
   "metadata": {},
   "outputs": [
    {
     "data": {
      "text/html": [
       "<div>\n",
       "<style scoped>\n",
       "    .dataframe tbody tr th:only-of-type {\n",
       "        vertical-align: middle;\n",
       "    }\n",
       "\n",
       "    .dataframe tbody tr th {\n",
       "        vertical-align: top;\n",
       "    }\n",
       "\n",
       "    .dataframe thead th {\n",
       "        text-align: right;\n",
       "    }\n",
       "</style>\n",
       "<table border=\"1\" class=\"dataframe\">\n",
       "  <thead>\n",
       "    <tr style=\"text-align: right;\">\n",
       "      <th></th>\n",
       "      <th>neg</th>\n",
       "      <th>neu</th>\n",
       "      <th>pos</th>\n",
       "      <th>compound</th>\n",
       "      <th>headline</th>\n",
       "    </tr>\n",
       "  </thead>\n",
       "  <tbody>\n",
       "    <tr>\n",
       "      <th>0</th>\n",
       "      <td>0.142</td>\n",
       "      <td>0.737</td>\n",
       "      <td>0.121</td>\n",
       "      <td>-0.1027</td>\n",
       "      <td>Republican Senate candidate Larry Hogan calls ...</td>\n",
       "    </tr>\n",
       "    <tr>\n",
       "      <th>1</th>\n",
       "      <td>0.000</td>\n",
       "      <td>0.775</td>\n",
       "      <td>0.225</td>\n",
       "      <td>0.2960</td>\n",
       "      <td>Energy Department commits $360 million to powe...</td>\n",
       "    </tr>\n",
       "    <tr>\n",
       "      <th>2</th>\n",
       "      <td>0.250</td>\n",
       "      <td>0.593</td>\n",
       "      <td>0.157</td>\n",
       "      <td>-0.2960</td>\n",
       "      <td>Ex-NBA player running for US Senate comes unde...</td>\n",
       "    </tr>\n",
       "    <tr>\n",
       "      <th>3</th>\n",
       "      <td>0.000</td>\n",
       "      <td>0.714</td>\n",
       "      <td>0.286</td>\n",
       "      <td>0.3400</td>\n",
       "      <td>Georgia judge dismisses voting machine securit...</td>\n",
       "    </tr>\n",
       "    <tr>\n",
       "      <th>4</th>\n",
       "      <td>0.295</td>\n",
       "      <td>0.705</td>\n",
       "      <td>0.000</td>\n",
       "      <td>-0.6361</td>\n",
       "      <td>Donald Trump's Call for 'Really Violent Day' C...</td>\n",
       "    </tr>\n",
       "  </tbody>\n",
       "</table>\n",
       "</div>"
      ],
      "text/plain": [
       "     neg    neu    pos  compound  \\\n",
       "0  0.142  0.737  0.121   -0.1027   \n",
       "1  0.000  0.775  0.225    0.2960   \n",
       "2  0.250  0.593  0.157   -0.2960   \n",
       "3  0.000  0.714  0.286    0.3400   \n",
       "4  0.295  0.705  0.000   -0.6361   \n",
       "\n",
       "                                            headline  \n",
       "0  Republican Senate candidate Larry Hogan calls ...  \n",
       "1  Energy Department commits $360 million to powe...  \n",
       "2  Ex-NBA player running for US Senate comes unde...  \n",
       "3  Georgia judge dismisses voting machine securit...  \n",
       "4  Donald Trump's Call for 'Really Violent Day' C...  "
      ]
     },
     "execution_count": 8,
     "metadata": {},
     "output_type": "execute_result"
    }
   ],
   "source": [
    "df = pd.DataFrame.from_records(result)\n",
    "df.head()"
   ]
  },
  {
   "cell_type": "code",
   "execution_count": 9,
   "id": "3d576f6a",
   "metadata": {},
   "outputs": [
    {
     "data": {
      "text/html": [
       "<div>\n",
       "<style scoped>\n",
       "    .dataframe tbody tr th:only-of-type {\n",
       "        vertical-align: middle;\n",
       "    }\n",
       "\n",
       "    .dataframe tbody tr th {\n",
       "        vertical-align: top;\n",
       "    }\n",
       "\n",
       "    .dataframe thead th {\n",
       "        text-align: right;\n",
       "    }\n",
       "</style>\n",
       "<table border=\"1\" class=\"dataframe\">\n",
       "  <thead>\n",
       "    <tr style=\"text-align: right;\">\n",
       "      <th></th>\n",
       "      <th>neg</th>\n",
       "      <th>neu</th>\n",
       "      <th>pos</th>\n",
       "      <th>compound</th>\n",
       "      <th>headline</th>\n",
       "      <th>label</th>\n",
       "    </tr>\n",
       "  </thead>\n",
       "  <tbody>\n",
       "    <tr>\n",
       "      <th>0</th>\n",
       "      <td>0.142</td>\n",
       "      <td>0.737</td>\n",
       "      <td>0.121</td>\n",
       "      <td>-0.1027</td>\n",
       "      <td>Republican Senate candidate Larry Hogan calls ...</td>\n",
       "      <td>0</td>\n",
       "    </tr>\n",
       "    <tr>\n",
       "      <th>1</th>\n",
       "      <td>0.000</td>\n",
       "      <td>0.775</td>\n",
       "      <td>0.225</td>\n",
       "      <td>0.2960</td>\n",
       "      <td>Energy Department commits $360 million to powe...</td>\n",
       "      <td>1</td>\n",
       "    </tr>\n",
       "    <tr>\n",
       "      <th>2</th>\n",
       "      <td>0.250</td>\n",
       "      <td>0.593</td>\n",
       "      <td>0.157</td>\n",
       "      <td>-0.2960</td>\n",
       "      <td>Ex-NBA player running for US Senate comes unde...</td>\n",
       "      <td>-1</td>\n",
       "    </tr>\n",
       "    <tr>\n",
       "      <th>3</th>\n",
       "      <td>0.000</td>\n",
       "      <td>0.714</td>\n",
       "      <td>0.286</td>\n",
       "      <td>0.3400</td>\n",
       "      <td>Georgia judge dismisses voting machine securit...</td>\n",
       "      <td>1</td>\n",
       "    </tr>\n",
       "    <tr>\n",
       "      <th>4</th>\n",
       "      <td>0.295</td>\n",
       "      <td>0.705</td>\n",
       "      <td>0.000</td>\n",
       "      <td>-0.6361</td>\n",
       "      <td>Donald Trump's Call for 'Really Violent Day' C...</td>\n",
       "      <td>-1</td>\n",
       "    </tr>\n",
       "  </tbody>\n",
       "</table>\n",
       "</div>"
      ],
      "text/plain": [
       "     neg    neu    pos  compound  \\\n",
       "0  0.142  0.737  0.121   -0.1027   \n",
       "1  0.000  0.775  0.225    0.2960   \n",
       "2  0.250  0.593  0.157   -0.2960   \n",
       "3  0.000  0.714  0.286    0.3400   \n",
       "4  0.295  0.705  0.000   -0.6361   \n",
       "\n",
       "                                            headline  label  \n",
       "0  Republican Senate candidate Larry Hogan calls ...      0  \n",
       "1  Energy Department commits $360 million to powe...      1  \n",
       "2  Ex-NBA player running for US Senate comes unde...     -1  \n",
       "3  Georgia judge dismisses voting machine securit...      1  \n",
       "4  Donald Trump's Call for 'Really Violent Day' C...     -1  "
      ]
     },
     "execution_count": 9,
     "metadata": {},
     "output_type": "execute_result"
    }
   ],
   "source": [
    "df['label'] = 0\n",
    "df.loc[df['compound'] > 0.2, 'label'] =1\n",
    "df.loc[df['compound'] <-0.2, 'label'] =-1\n",
    "df.head()"
   ]
  },
  {
   "cell_type": "code",
   "execution_count": 10,
   "id": "590a53dd",
   "metadata": {},
   "outputs": [],
   "source": [
    "df2 = df[['headline','label']]"
   ]
  },
  {
   "cell_type": "code",
   "execution_count": 11,
   "id": "9d96a56b",
   "metadata": {},
   "outputs": [],
   "source": [
    "df2.to_csv('reddit_headlines_labels.csv', encoding='utf-8', index=False)"
   ]
  },
  {
   "cell_type": "code",
   "execution_count": 12,
   "id": "c0d76e3b",
   "metadata": {},
   "outputs": [
    {
     "data": {
      "text/plain": [
       " 0    310\n",
       "-1    272\n",
       " 1    173\n",
       "Name: label, dtype: int64"
      ]
     },
     "execution_count": 12,
     "metadata": {},
     "output_type": "execute_result"
    }
   ],
   "source": [
    "df.label.value_counts()"
   ]
  },
  {
   "cell_type": "code",
   "execution_count": 13,
   "id": "7ec603cb",
   "metadata": {},
   "outputs": [
    {
     "data": {
      "text/plain": [
       " 0    41.059603\n",
       "-1    36.026490\n",
       " 1    22.913907\n",
       "Name: label, dtype: float64"
      ]
     },
     "execution_count": 13,
     "metadata": {},
     "output_type": "execute_result"
    }
   ],
   "source": [
    "df.label.value_counts(normalize=True) * 100"
   ]
  },
  {
   "cell_type": "code",
   "execution_count": 14,
   "id": "c6506b93",
   "metadata": {},
   "outputs": [
    {
     "name": "stdout",
     "output_type": "stream",
     "text": [
      "Positive hedlines:\n",
      "\n",
      "['Energy Department commits $360 million to power line connecting Texas grid to Mississippi',\n",
      " 'Georgia judge dismisses voting machine security concerns',\n",
      " 'How Child Marriage Survivor Naila Amin Plans to End the Practice in the U.S.',\n",
      " \"Trump's Candidates Are Falling Behind Even in States He's Winning\",\n",
      " 'Trump averages more than 24 Truth Social posts a day and he was even busier during the VP debate | A new Roll Call Factba.se analysis found former president Trump posted on his social media site '\n",
      " 'nearly 9,000 times in 2024.']\n",
      "\n",
      "Negative hedlines:\n",
      "\n",
      "[\"Ex-NBA player running for US Senate comes under fire for resurfaced comment that 'bad guys' won WWII\",\n",
      " \"Donald Trump's Call for 'Really Violent Day' Compared to 'The Purge'\",\n",
      " 'Trump caught lying repeatedly about response to Hurricane Helene',\n",
      " 'Prosecutors: Trump ‘resorted to crimes’ after losing 2020 election in failed bid to cling to power',\n",
      " 'Trump’s Jan. 6 role back in focus as he readies new stolen election claims ']\n"
     ]
    }
   ],
   "source": [
    "print(\"Positive hedlines:\\n\")\n",
    "pprint(list(df[df['label']==1].headline)[:5], width=200)\n",
    "\n",
    "print(\"\\nNegative hedlines:\\n\")\n",
    "pprint(list(df[df['label']==-1].headline)[:5], width=200)"
   ]
  },
  {
   "cell_type": "code",
   "execution_count": 15,
   "id": "c3510ed8",
   "metadata": {},
   "outputs": [
    {
     "name": "stderr",
     "output_type": "stream",
     "text": [
      "C:\\Users\\Ada\\AppData\\Local\\Temp\\ipykernel_10712\\1052011833.py:7: UserWarning: FixedFormatter should only be used together with FixedLocator\n",
      "  ax.set_yticklabels(\"Percentage\")\n"
     ]
    },
    {
     "data": {
      "image/png": "[encoded data removed]",
      "text/plain": [
       "<Figure size 800x800 with 1 Axes>"
      ]
     },
     "metadata": {},
     "output_type": "display_data"
    }
   ],
   "source": [
    "fig, ax = plt.subplots(figsize=(8,8))\n",
    "\n",
    "counts = df.label.value_counts(normalize=True) *100\n",
    "\n",
    "sns.barplot(x=counts.index, y=counts, ax=ax)\n",
    "ax.set_xticklabels(['Negative','Neutal','Positive'])\n",
    "ax.set_yticklabels(\"Percentage\")\n",
    "\n",
    "plt.show()\n"
   ]
  },
  {
   "cell_type": "code",
   "execution_count": null,
   "id": "88250c0a",
   "metadata": {},
   "outputs": [],
   "source": []
  },
  {
   "cell_type": "code",
   "execution_count": null,
   "id": "8c45d10e",
   "metadata": {},
   "outputs": [],
   "source": []
  }
 ],
 "metadata": {
  "kernelspec": {
   "display_name": "Python 3 (ipykernel)",
   "language": "python",
   "name": "python3"
  },
  "language_info": {
   "codemirror_mode": {
    "name": "ipython",
    "version": 3
   },
   "file_extension": ".py",
   "mimetype": "text/x-python",
   "name": "python",
   "nbconvert_exporter": "python",
   "pygments_lexer": "ipython3",
   "version": "3.9.13"
  }
 },
 "nbformat": 4,
 "nbformat_minor": 5
}
